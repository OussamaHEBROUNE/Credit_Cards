{
  "nbformat": 4,
  "nbformat_minor": 0,
  "metadata": {
    "colab": {
      "name": "algos.credit.card.ipynb",
      "provenance": [],
      "collapsed_sections": []
    },
    "kernelspec": {
      "name": "python3",
      "display_name": "Python 3"
    }
  },
  "cells": [
    {
      "cell_type": "markdown",
      "metadata": {
        "id": "TdytqvnlSdvh"
      },
      "source": [
        "## 1 - Lien vers le drive ##\n",
        "\n",
        "\n"
      ]
    },
    {
      "cell_type": "code",
      "metadata": {
        "colab": {
          "base_uri": "https://localhost:8080/"
        },
        "id": "3VrNDRTIFcoW",
        "outputId": "769777f1-2822-4345-c7e9-ddafb0c8da09"
      },
      "source": [
        "from google.colab import drive\n",
        "\n",
        "# autorisation avec un code\n",
        "drive.mount('/content/drive')"
      ],
      "execution_count": null,
      "outputs": [
        {
          "output_type": "stream",
          "text": [
            "Drive already mounted at /content/drive; to attempt to forcibly remount, call drive.mount(\"/content/drive\", force_remount=True).\n"
          ],
          "name": "stdout"
        }
      ]
    },
    {
      "cell_type": "markdown",
      "metadata": {
        "id": "7eR6bKY9Sf_y"
      },
      "source": [
        "## 2 - Import des librairies ##"
      ]
    },
    {
      "cell_type": "code",
      "metadata": {
        "id": "_sPPB-WLF1WE"
      },
      "source": [
        "from matplotlib import pyplot as plt\n",
        "import pandas as pd\n",
        "import numpy as np\n",
        "from sklearn.tree import DecisionTreeClassifier\n",
        "from sklearn.ensemble import AdaBoostClassifier, GradientBoostingClassifier\n",
        "from sklearn.ensemble import ExtraTreesClassifier, RandomForestClassifier\n",
        "from imblearn.under_sampling import RandomUnderSampler\n",
        "from sklearn.metrics import roc_curve, roc_auc_score\n",
        "import warnings\n",
        "warnings.filterwarnings('ignore')\n",
        "from sklearn.model_selection import KFold, cross_val_score, StratifiedKFold, cross_val_predict\n",
        "from sklearn.linear_model import LogisticRegression\n",
        "from sklearn.neighbors import KNeighborsClassifier\n",
        "from sklearn.discriminant_analysis import LinearDiscriminantAnalysis\n",
        "from sklearn.discriminant_analysis import QuadraticDiscriminantAnalysis\n",
        "from sklearn.svm import SVC\n",
        "from sklearn.ensemble import AdaBoostClassifier, GradientBoostingClassifier\n",
        "from imblearn.under_sampling import NearMiss\n",
        "from sklearn.preprocessing import StandardScaler\n",
        "from sklearn.model_selection import GridSearchCV"
      ],
      "execution_count": null,
      "outputs": []
    },
    {
      "cell_type": "markdown",
      "metadata": {
        "id": "JJs7ezVkSlBi"
      },
      "source": [
        "## 3 - Chargement de données ##\n"
      ]
    },
    {
      "cell_type": "code",
      "metadata": {
        "id": "2Ze6RpctFodM"
      },
      "source": [
        "file_path = \"/content/drive/My Drive/Supervised_proj/creditcard.csv\"\n",
        "credit_card_data = pd.read_csv(file_path)\n",
        "array = credit_card_data.to_numpy()\n",
        "X = array[:,0:-1]\n",
        "Y = array[:,-1]"
      ],
      "execution_count": null,
      "outputs": []
    },
    {
      "cell_type": "markdown",
      "metadata": {
        "id": "9wO8kzk4Kl8d"
      },
      "source": [
        "# 4 - NearMiss"
      ]
    },
    {
      "cell_type": "code",
      "metadata": {
        "id": "cGfXuuBxK_a3"
      },
      "source": [
        "%%capture\n",
        "!pip install imblearn"
      ],
      "execution_count": null,
      "outputs": []
    },
    {
      "cell_type": "code",
      "metadata": {
        "id": "KGva1K2uKWDK"
      },
      "source": [
        "# Tune SVM\n",
        "# Standardiser les données\n",
        "scaler = StandardScaler()\n",
        "\n",
        "# Utilisation d'une technique d'oversampling\n",
        "near_miss = NearMiss()\n",
        "\n",
        "num_folds = 10\n",
        "seed = 2021\n",
        "\n",
        "X_train, Y_train = near_miss.fit_resample(X, Y)\n",
        "scaler = StandardScaler().fit(X_train)\n",
        "rescaledX = scaler.transform(X_train)\n",
        "c_values = [0.1, 0.3, 0.5, 0.7, 0.9, 1.0, 1.3, 1.5, 1.7, 2.0]\n",
        "kernel_values = ['linear', 'poly', 'rbf', 'sigmoid']\n",
        "param_grid = dict(C=c_values, kernel=kernel_values)\n",
        "model = SVC()\n",
        "kfold = KFold(n_splits=num_folds, random_state=seed)\n",
        "grid = GridSearchCV(estimator=model, param_grid=param_grid, scoring='accuracy', cv=kfold)\n",
        "grid_result = grid.fit(rescaledX, Y_train)\n",
        "print(\"Best: %f using %s\" % (grid_result.best_score_, grid_result.best_params_))"
      ],
      "execution_count": null,
      "outputs": []
    },
    {
      "cell_type": "code",
      "metadata": {
        "id": "ZlLlQBpxKgrL"
      },
      "source": [
        "# Tune KNN\n",
        "neighbors = list(range(1, 20))\n",
        "param_grid = dict(n_neighbors=neighbors)\n",
        "model = KNeighborsClassifier()\n",
        "kfold = KFold(n_splits=num_folds, random_state=seed)\n",
        "grid = GridSearchCV(estimator=model, param_grid=param_grid, scoring='accuracy', cv=kfold)\n",
        "grid_result = grid.fit(rescaledX, Y_train)\n",
        "print(\"Best: %f using %s\" % (grid_result.best_score_, grid_result.best_params_))"
      ],
      "execution_count": null,
      "outputs": []
    },
    {
      "cell_type": "code",
      "metadata": {
        "colab": {
          "base_uri": "https://localhost:8080/"
        },
        "id": "oxpOVhdLKhUx",
        "outputId": "29066ed5-fa30-4f80-a15a-13b1c627b6e9"
      },
      "source": [
        "# Tune RandomForestClassifier\n",
        "n_estimators = [10, 20, 30, 40, 50, 100, 200]\n",
        "param_grid = dict(n_estimators=n_estimators)\n",
        "model = RandomForestClassifier()\n",
        "kfold = KFold(n_splits=num_folds, random_state=seed)\n",
        "grid = GridSearchCV(estimator=model, param_grid=param_grid, scoring='accuracy', cv=kfold)\n",
        "grid_result = grid.fit(rescaledX, Y_train)\n",
        "print(\"Best: %f using %s\" % (grid_result.best_score_, grid_result.best_params_))"
      ],
      "execution_count": null,
      "outputs": [
        {
          "output_type": "stream",
          "text": [
            "Best: 0.931767 using {'n_estimators': 100}\n"
          ],
          "name": "stdout"
        }
      ]
    },
    {
      "cell_type": "code",
      "metadata": {
        "colab": {
          "base_uri": "https://localhost:8080/"
        },
        "id": "n2skUxWsF9Jr",
        "outputId": "53260ab2-950c-4264-a7c6-d4750fe09b59"
      },
      "source": [
        "# fixer le seed\n",
        "from random import seed\n",
        "seed(2021)\n",
        "\n",
        "scaler = StandardScaler()\n",
        "\n",
        "num_folds = 10\n",
        "seed = 2021\n",
        "\n",
        "# Utilisation de RandomUnderSampler\n",
        "near_miss = NearMiss()\n",
        "\n",
        "kfold = KFold(n_splits=num_folds, random_state=seed)\n",
        "\n",
        "# Nous avons choisi 10 modèles\n",
        "models = {\n",
        "    'KNN': KNeighborsClassifier(n_neighbors=8),\n",
        "    'GBM': GradientBoostingClassifier(n_estimators=200),\n",
        "    'LR': LogisticRegression(),\n",
        "    'RF': RandomForestClassifier(n_estimators=100),\n",
        "    'ET': ExtraTreesClassifier(n_estimators=200),\n",
        "    'LDA': LinearDiscriminantAnalysis(),\n",
        "    'QDA': QuadraticDiscriminantAnalysis(),\n",
        "    'CART': DecisionTreeClassifier(),\n",
        "    'SVM': SVC(probability=True, kernel='linear', C=0.7),\n",
        "    'AB': AdaBoostClassifier(n_estimators=100)\n",
        "    }\n",
        "\n",
        "results, names, result_str = list(), list(), list()\n",
        "best_predictions = {}\n",
        "\n",
        "for name, model in models.items():\n",
        "    # Nom du modèle\n",
        "    print(name)\n",
        "\n",
        "    # Initialiser les résultats\n",
        "    best_result = 0\n",
        "    best_cv_results = list()\n",
        "    y_probas_pred = list()\n",
        "    \n",
        "    # C'est parti pour 50 itérations\n",
        "    iter_max = 50\n",
        "    i = 1\n",
        "    while i <= iter_max:\n",
        "        # utilisation de near_miss\n",
        "        X_train, Y_train = near_miss.fit_resample(X, Y)\n",
        "        X_train = scaler.fit_transform(X_train)\n",
        "\n",
        "        # Une cross validation\n",
        "        cv_results = cross_val_score(model, X_train, Y_train, cv=kfold, scoring='accuracy')\n",
        "        if cv_results.mean() > best_result:\n",
        "            best_result = cv_results.mean()\n",
        "            y_probas_pred = cross_val_predict(model,X_train, Y_train, cv=kfold, method=\"predict_proba\")\n",
        "            best_cv_results = cv_results \n",
        "        i+=1\n",
        "        \n",
        "    results.append(best_cv_results)\n",
        "    names.append(name)\n",
        "    to_add = f\" model {name}, best CV = {best_cv_results.mean()} +- {best_cv_results.std()}\"\n",
        "    result_str.append(to_add)\n",
        "    best_predictions[name] = y_probas_pred\n",
        "\n",
        "# Show results\n",
        "for string in result_str:\n",
        "    print(string)"
      ],
      "execution_count": null,
      "outputs": [
        {
          "output_type": "stream",
          "text": [
            "KNN\n",
            "GBM\n",
            "LR\n",
            "RF\n",
            "ET\n",
            "LDA\n",
            "QDA\n",
            "CART\n",
            "SVM\n",
            "AB\n",
            " model KNN, best CV = 0.8990105132962276 +- 0.1152383496070411\n",
            " model GBM, best CV = 0.9398680684394971 +- 0.04736192844598384\n",
            " model LR, best CV = 0.9368686868686869 +- 0.03683688435912473\n",
            " model RF, best CV = 0.9521335807050093 +- 0.04057705626423251\n",
            " model ET, best CV = 0.9480107194392907 +- 0.047773609329297244\n",
            " model LDA, best CV = 0.8928983714697999 +- 0.10004099126962554\n",
            " model QDA, best CV = 0.9257060399917544 +- 0.049443786521359064\n",
            " model CART, best CV = 0.9297773654916514 +- 0.03222250998510085\n",
            " model SVM, best CV = 0.9409400123685838 +- 0.03681402881489442\n",
            " model AB, best CV = 0.9428777571634714 +- 0.05631562503811011\n"
          ],
          "name": "stdout"
        }
      ]
    },
    {
      "cell_type": "code",
      "metadata": {
        "colab": {
          "base_uri": "https://localhost:8080/"
        },
        "id": "mEEEFS_0KTxD",
        "outputId": "854c78fe-50d0-4d96-d522-223fcc8d8267"
      },
      "source": [
        "for model in best_predictions.keys():\n",
        "    print(model, \": \", roc_auc_score(Y_train, best_predictions[model][:,1]))"
      ],
      "execution_count": null,
      "outputs": [
        {
          "output_type": "stream",
          "text": [
            "KNN :  0.9359694130477889\n",
            "GBM :  0.9651249256395001\n",
            "LR :  0.9692478022341199\n",
            "RF :  0.9761468041509683\n",
            "ET :  0.9766693932183225\n",
            "LDA :  0.9335960737656156\n",
            "QDA :  0.9646044021415824\n",
            "CART :  0.9288617886178862\n",
            "SVM :  0.9658106946923127\n",
            "AB :  0.9584118249719082\n"
          ],
          "name": "stdout"
        }
      ]
    },
    {
      "cell_type": "code",
      "metadata": {
        "colab": {
          "base_uri": "https://localhost:8080/",
          "height": 529
        },
        "id": "fcueCMPqGMey",
        "outputId": "784ded7e-74de-4bd2-e3b0-4ad96bda8e44"
      },
      "source": [
        "fig = plt.figure()\n",
        "ax = fig.add_subplot(111)\n",
        "plt.boxplot(results)\n",
        "ax.set_xticklabels(names)\n",
        "plt.savefig(\"boxplot_nearmiss_HD.png\", format=\"png\", dpi=1200)\n",
        "plt.show()\n",
        "for model in best_predictions.keys():\n",
        "  fpr, tpr, thresh = roc_curve(Y_train, best_predictions[model][:,1])\n",
        "  plt.plot(fpr, tpr, linewidth=2, label=model)\n",
        "  plt.plot([0,1], [0,1], 'k--')\n",
        "plt.legend()\n",
        "plt.title('ROC CURVE')\n",
        "plt.savefig(\"roc_nearmiss_HD.png\", format=\"png\", dpi=1200)"
      ],
      "execution_count": null,
      "outputs": [
        {
          "output_type": "display_data",
          "data": {
            "image/png": "[encoded data removed]",
            "text/plain": [
              "<Figure size 432x288 with 1 Axes>"
            ]
          },
          "metadata": {
            "tags": [],
            "needs_background": "light"
          }
        },
        {
          "output_type": "display_data",
          "data": {
            "image/png": "[encoded data removed]",
            "text/plain": [
              "<Figure size 432x288 with 1 Axes>"
            ]
          },
          "metadata": {
            "tags": [],
            "needs_background": "light"
          }
        }
      ]
    },
    {
      "cell_type": "markdown",
      "metadata": {
        "id": "8QZebIIf7hJ8"
      },
      "source": [
        "# 5 - RandomUnderSampling"
      ]
    },
    {
      "cell_type": "code",
      "metadata": {
        "id": "HfDs915cTZqZ",
        "colab": {
          "base_uri": "https://localhost:8080/"
        },
        "outputId": "8a3a71c9-7c00-41f5-811c-908a086d32e4"
      },
      "source": [
        "# fixer le seed\n",
        "from random import seed\n",
        "seed(2021)\n",
        "\n",
        "scaler = StandardScaler()\n",
        "\n",
        "num_folds = 10\n",
        "seed = 2021\n",
        "\n",
        "# Utilisation de RandomUnderSampler\n",
        "random_under_sampler = RandomUnderSampler()\n",
        "\n",
        "kfold = KFold(n_splits=num_folds, random_state=seed)\n",
        "\n",
        "# Nous avons choisi 10 modèles\n",
        "models = {\n",
        "    'KNN': KNeighborsClassifier(n_neighbors=8),\n",
        "    'GBM': GradientBoostingClassifier(n_estimators=200),\n",
        "    'LR': LogisticRegression(),\n",
        "    'RF': RandomForestClassifier(n_estimators=100),\n",
        "    'ET': ExtraTreesClassifier(n_estimators=200),\n",
        "    'LDA': LinearDiscriminantAnalysis(),\n",
        "    'QDA': QuadraticDiscriminantAnalysis(),\n",
        "    'CART': DecisionTreeClassifier(),\n",
        "    'SVM': SVC(probability=True, kernel='linear', C=0.7),\n",
        "    'AB': AdaBoostClassifier(n_estimators=100)\n",
        "    }\n",
        "\n",
        "results, names, result_str = list(), list(), list()\n",
        "best_predictions = {}\n",
        "\n",
        "for name, model in models.items():\n",
        "    # Nom du modèle\n",
        "    print(name)\n",
        "\n",
        "    # Initialiser les résultats\n",
        "    best_result = 0\n",
        "    best_cv_results = list()\n",
        "    y_probas_pred = list()\n",
        "    \n",
        "    # C'est parti pour 50 itérations\n",
        "    iter_max = 50\n",
        "    i = 1\n",
        "    while i <= iter_max:\n",
        "        # utilisation de random_under_sampler\n",
        "        X_train, Y_train = random_under_sampler.fit_resample(X, Y)\n",
        "        X_train = scaler.fit_transform(X_train)\n",
        "\n",
        "        # Une cross validation\n",
        "        cv_results = cross_val_score(model, X_train, Y_train, cv=kfold, scoring='accuracy')\n",
        "        if cv_results.mean() > best_result:\n",
        "            best_result = cv_results.mean()\n",
        "            y_probas_pred = cross_val_predict(model,X_train, Y_train, cv=kfold, method=\"predict_proba\")\n",
        "            best_cv_results = cv_results \n",
        "        i+=1\n",
        "        \n",
        "    results.append(best_cv_results)\n",
        "    names.append(name)\n",
        "    to_add = f\" model {name}, best CV = {best_cv_results.mean()} +- {best_cv_results.std()}\"\n",
        "    result_str.append(to_add)\n",
        "    best_predictions[name] = y_probas_pred\n",
        "\n",
        "# Show results\n",
        "for string in result_str:\n",
        "    print(string)"
      ],
      "execution_count": null,
      "outputs": [
        {
          "output_type": "stream",
          "text": [
            "KNN\n",
            "GBM\n",
            "LR\n",
            "RF\n",
            "ET\n",
            "LDA\n",
            "QDA\n",
            "CART\n",
            "SVM\n",
            "AB\n",
            " model KNN, best CV = 0.8949804164089878 +- 0.10231197612756107\n",
            " model GBM, best CV = 0.9368686868686869 +- 0.047190966175840704\n",
            " model LR, best CV = 0.940909090909091 +- 0.049148350782941844\n",
            " model RF, best CV = 0.9357864357864358 +- 0.05046311032328964\n",
            " model ET, best CV = 0.936775922490208 +- 0.05984326736254821\n",
            " model LDA, best CV = 0.8816738816738818 +- 0.11395801279979417\n",
            " model QDA, best CV = 0.9267882910740053 +- 0.034686627184062166\n",
            " model CART, best CV = 0.9155534941249227 +- 0.04791141426124404\n",
            " model SVM, best CV = 0.9388785817357246 +- 0.04748218075361375\n",
            " model AB, best CV = 0.9267264481550196 +- 0.057223945200953114\n"
          ],
          "name": "stdout"
        }
      ]
    },
    {
      "cell_type": "code",
      "metadata": {
        "colab": {
          "base_uri": "https://localhost:8080/"
        },
        "id": "eFUt5qDf8yVb",
        "outputId": "0d305283-976c-43bd-d85c-439bdc012754"
      },
      "source": [
        "for model in best_predictions.keys():\n",
        "    print(model, \": \", roc_auc_score(Y_train, best_predictions[model][:,1]))"
      ],
      "execution_count": null,
      "outputs": [
        {
          "output_type": "stream",
          "text": [
            "KNN :  0.9350130543988366\n",
            "GBM :  0.9659924648026966\n",
            "LR :  0.9652447286667988\n",
            "RF :  0.9665419062727212\n",
            "ET :  0.9682583944741886\n",
            "LDA :  0.9214009518143962\n",
            "QDA :  0.9631192577169675\n",
            "CART :  0.9044715447154472\n",
            "SVM :  0.9626131932051029\n",
            "AB :  0.9569700575054532\n"
          ],
          "name": "stdout"
        }
      ]
    },
    {
      "cell_type": "code",
      "metadata": {
        "colab": {
          "base_uri": "https://localhost:8080/",
          "height": 529
        },
        "id": "iKAu53Pt81Lp",
        "outputId": "a5f6e24b-18c7-45a9-9998-3dba7578af6d"
      },
      "source": [
        "fig = plt.figure()\n",
        "ax = fig.add_subplot(111)\n",
        "plt.boxplot(results)\n",
        "ax.set_xticklabels(names)\n",
        "plt.savefig(\"boxplot_random_HD.png\", format=\"png\", dpi=1200)\n",
        "plt.show()\n",
        "for model in best_predictions.keys():\n",
        "  fpr, tpr, thresh = roc_curve(Y_train, best_predictions[model][:,1])\n",
        "  plt.plot(fpr, tpr, linewidth=2, label=model)\n",
        "  plt.plot([0,1], [0,1], 'k--')\n",
        "plt.legend()\n",
        "plt.title('ROC CURVE')\n",
        "plt.savefig(\"roc_random_HD.png\", format=\"png\", dpi=1200)"
      ],
      "execution_count": null,
      "outputs": [
        {
          "output_type": "display_data",
          "data": {
            "image/png": "[encoded data removed]",
            "text/plain": [
              "<Figure size 432x288 with 1 Axes>"
            ]
          },
          "metadata": {
            "tags": [],
            "needs_background": "light"
          }
        },
        {
          "output_type": "display_data",
          "data": {
            "image/png": "[encoded data removed]",
            "text/plain": [
              "<Figure size 432x288 with 1 Axes>"
            ]
          },
          "metadata": {
            "tags": [],
            "needs_background": "light"
          }
        }
      ]
    },
    {
      "cell_type": "code",
      "metadata": {
        "id": "dH6BWM1uLGpR"
      },
      "source": [
        ""
      ],
      "execution_count": null,
      "outputs": []
    }
  ]
}