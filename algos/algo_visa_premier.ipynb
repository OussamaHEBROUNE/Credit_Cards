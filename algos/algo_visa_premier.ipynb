{
  "nbformat": 4,
  "nbformat_minor": 0,
  "metadata": {
    "colab": {
      "name": "algo.visa.premier.ipynb",
      "provenance": [],
      "collapsed_sections": []
    },
    "kernelspec": {
      "name": "python3",
      "display_name": "Python 3"
    }
  },
  "cells": [
    {
      "cell_type": "markdown",
      "metadata": {
        "id": "1XxyWKb7oT5M"
      },
      "source": [
        "## 1 - Lien vers le drive ##"
      ]
    },
    {
      "cell_type": "code",
      "metadata": {
        "colab": {
          "base_uri": "https://localhost:8080/"
        },
        "id": "qLy2IHtNL_bM",
        "outputId": "1c0c464d-0693-4a85-8171-ec8cba2bfa1e"
      },
      "source": [
        "from google.colab import drive\n",
        "\n",
        "# autorisation avec un code\n",
        "drive.mount('/content/drive')"
      ],
      "execution_count": 1,
      "outputs": [
        {
          "output_type": "stream",
          "text": [
            "Mounted at /content/drive\n"
          ],
          "name": "stdout"
        }
      ]
    },
    {
      "cell_type": "markdown",
      "metadata": {
        "id": "78WlXXhBoeUi"
      },
      "source": [
        "## 2 - Import des librairies ##\n"
      ]
    },
    {
      "cell_type": "code",
      "metadata": {
        "id": "FTlUwyqWMTB9",
        "colab": {
          "base_uri": "https://localhost:8080/"
        },
        "outputId": "d9160414-ed3e-4510-d466-a5ebbcd76c01"
      },
      "source": [
        "from matplotlib import pyplot as plt\n",
        "import pandas as pd\n",
        "import numpy as np\n",
        "from sklearn.tree import DecisionTreeClassifier\n",
        "from sklearn.ensemble import AdaBoostClassifier, GradientBoostingClassifier\n",
        "from sklearn.ensemble import ExtraTreesClassifier, RandomForestClassifier\n",
        "from imblearn.under_sampling import RandomUnderSampler\n",
        "from sklearn.metrics import roc_curve, roc_auc_score\n",
        "import warnings\n",
        "warnings.filterwarnings('ignore')\n",
        "from sklearn.model_selection import KFold, cross_val_score, StratifiedKFold, cross_val_predict\n",
        "from sklearn.linear_model import LogisticRegression\n",
        "from sklearn.neighbors import KNeighborsClassifier\n",
        "from sklearn.discriminant_analysis import LinearDiscriminantAnalysis\n",
        "from sklearn.discriminant_analysis import QuadraticDiscriminantAnalysis\n",
        "from sklearn.svm import SVC\n",
        "from sklearn.ensemble import AdaBoostClassifier, GradientBoostingClassifier\n",
        "from imblearn.under_sampling import NearMiss\n",
        "from sklearn.preprocessing import StandardScaler\n",
        "from random import seed\n",
        "from imblearn.over_sampling import SMOTE\n",
        "from sklearn.model_selection import GridSearchCV"
      ],
      "execution_count": 2,
      "outputs": [
        {
          "output_type": "stream",
          "text": [
            "/usr/local/lib/python3.7/dist-packages/sklearn/externals/six.py:31: FutureWarning: The module is deprecated in version 0.21 and will be removed in version 0.23 since we've dropped support for Python 2.7. Please rely on the official version of six (https://pypi.org/project/six/).\n",
            "  \"(https://pypi.org/project/six/).\", FutureWarning)\n",
            "/usr/local/lib/python3.7/dist-packages/sklearn/utils/deprecation.py:144: FutureWarning: The sklearn.neighbors.base module is  deprecated in version 0.22 and will be removed in version 0.24. The corresponding classes / functions should instead be imported from sklearn.neighbors. Anything that cannot be imported from sklearn.neighbors is now part of the private API.\n",
            "  warnings.warn(message, FutureWarning)\n"
          ],
          "name": "stderr"
        }
      ]
    },
    {
      "cell_type": "markdown",
      "metadata": {
        "id": "y7h77QztolAq"
      },
      "source": [
        "## 3 - Chargement de données ##\n"
      ]
    },
    {
      "cell_type": "code",
      "metadata": {
        "id": "FIcp-QtwMB-K"
      },
      "source": [
        "file_path = \"/content/drive/My Drive/Supervised_proj/VisaPremierAfterPrep.csv\"\n",
        "visa_data = pd.read_csv(file_path, index_col=0)\n",
        "quali_names = [\"departem\", \"ptvente\", \"sitfamil\", \"csp\", \"sexer\", \"codeqlt\"]\n",
        "visa_data = visa_data.drop(columns=quali_names)\n",
        "array = visa_data.to_numpy()\n",
        "X = array[:,:-1]\n",
        "Y = array[:,-1]"
      ],
      "execution_count": 3,
      "outputs": []
    },
    {
      "cell_type": "markdown",
      "metadata": {
        "id": "PTpiFljutHIk"
      },
      "source": [
        "# 4 - Oversampling"
      ]
    },
    {
      "cell_type": "code",
      "metadata": {
        "id": "O_rv1co2tqCm"
      },
      "source": [
        "%%capture\n",
        "!pip install imblearn"
      ],
      "execution_count": 4,
      "outputs": []
    },
    {
      "cell_type": "code",
      "metadata": {
        "colab": {
          "base_uri": "https://localhost:8080/"
        },
        "id": "5BH8wv6e03dc",
        "outputId": "e85a6360-327e-43fd-f8f1-328af0282c41"
      },
      "source": [
        "# Tune SVM\n",
        "# Standardiser les données\n",
        "scaler = StandardScaler()\n",
        "\n",
        "# Utilisation d'une technique d'oversampling\n",
        "smote = SMOTE()\n",
        "\n",
        "num_folds = 10\n",
        "seed = 2021\n",
        "X_train, Y_train = smote.fit_resample(X, Y)\n",
        "scaler = StandardScaler().fit(X_train)\n",
        "rescaledX = scaler.transform(X_train)\n",
        "c_values = [0.1, 0.3, 0.5, 0.7, 0.9, 1.0, 1.3, 1.5, 1.7, 2.0]\n",
        "kernel_values = ['linear', 'poly', 'rbf', 'sigmoid']\n",
        "param_grid = dict(C=c_values, kernel=kernel_values)\n",
        "model = SVC()\n",
        "kfold = KFold(n_splits=num_folds, random_state=seed)\n",
        "grid = GridSearchCV(estimator=model, param_grid=param_grid, scoring='accuracy', cv=kfold)\n",
        "grid_result = grid.fit(rescaledX, Y_train)\n",
        "print(\"Best: %f using %s\" % (grid_result.best_score_, grid_result.best_params_))"
      ],
      "execution_count": 5,
      "outputs": [
        {
          "output_type": "stream",
          "text": [
            "Best: 0.860691 using {'C': 2.0, 'kernel': 'rbf'}\n"
          ],
          "name": "stdout"
        }
      ]
    },
    {
      "cell_type": "code",
      "metadata": {
        "colab": {
          "base_uri": "https://localhost:8080/"
        },
        "id": "n2t64e5H1wh4",
        "outputId": "bbdabb3e-1b8a-4473-f82b-e0c1e561f664"
      },
      "source": [
        "# Tune KNN\n",
        "neighbors = list(range(1, 20))\n",
        "param_grid = dict(n_neighbors=neighbors)\n",
        "model = KNeighborsClassifier()\n",
        "kfold = KFold(n_splits=num_folds, random_state=seed)\n",
        "grid = GridSearchCV(estimator=model, param_grid=param_grid, scoring='accuracy', cv=kfold)\n",
        "grid_result = grid.fit(rescaledX, Y_train)\n",
        "print(\"Best: %f using %s\" % (grid_result.best_score_, grid_result.best_params_))"
      ],
      "execution_count": 6,
      "outputs": [
        {
          "output_type": "stream",
          "text": [
            "Best: 0.874086 using {'n_neighbors': 1}\n"
          ],
          "name": "stdout"
        }
      ]
    },
    {
      "cell_type": "code",
      "metadata": {
        "colab": {
          "base_uri": "https://localhost:8080/"
        },
        "id": "-N2lzMlX2iCP",
        "outputId": "f8168752-1505-4f23-e8d1-0dfedfd81508"
      },
      "source": [
        "# Tune RandomForestClassifier\n",
        "n_estimators = [10, 20, 30, 40, 50, 100, 200]\n",
        "param_grid = dict(n_estimators=n_estimators)\n",
        "model = RandomForestClassifier()\n",
        "kfold = KFold(n_splits=num_folds, random_state=seed)\n",
        "grid = GridSearchCV(estimator=model, param_grid=param_grid, scoring='accuracy', cv=kfold)\n",
        "grid_result = grid.fit(rescaledX, Y_train)\n",
        "print(\"Best: %f using %s\" % (grid_result.best_score_, grid_result.best_params_))"
      ],
      "execution_count": 7,
      "outputs": [
        {
          "output_type": "stream",
          "text": [
            "Best: 0.894391 using {'n_estimators': 100}\n"
          ],
          "name": "stdout"
        }
      ]
    },
    {
      "cell_type": "code",
      "metadata": {
        "colab": {
          "base_uri": "https://localhost:8080/"
        },
        "id": "hCBSn78ptMf1",
        "outputId": "b93527dd-b30d-438d-d422-413ab1a47667"
      },
      "source": [
        "# Nous avons choisi 10 modèles\n",
        "models = {\n",
        "    'KNN': KNeighborsClassifier(n_neighbors=1),\n",
        "    'GBM': GradientBoostingClassifier(),\n",
        "    'LR': LogisticRegression(),\n",
        "    'RF': RandomForestClassifier(n_estimators=100),\n",
        "    'ET': ExtraTreesClassifier(n_estimators=100),\n",
        "    'LDA': LinearDiscriminantAnalysis(),\n",
        "    'QDA': QuadraticDiscriminantAnalysis(),\n",
        "    'CART': DecisionTreeClassifier(),\n",
        "    'SVM': SVC(probability = True, C=2.0, kernel='rbf'),\n",
        "    'AB': AdaBoostClassifier(n_estimators=20)\n",
        "    }\n",
        "\n",
        "seed = 2021\n",
        "results, names, result_str = list(), list(), list()\n",
        "best_predictions = {}\n",
        "\n",
        "for name, model in models.items():\n",
        "    print(name)\n",
        "    best_result = 0\n",
        "    best_cv_results = list()\n",
        "    y_probas_pred = list()\n",
        "    iter_max = 50\n",
        "    i = 1\n",
        "    while i <= iter_max:\n",
        "        X_train, Y_train = smote.fit_resample(X, Y)\n",
        "        X_train = scaler.fit_transform(X_train)\n",
        "        cv_results = cross_val_score(model, X_train, Y_train, cv=kfold, scoring='accuracy')\n",
        "        if cv_results.mean() > best_result:\n",
        "            best_result = cv_results.mean()\n",
        "            y_probas_pred = cross_val_predict(model, X_train, Y_train, cv=kfold, method=\"predict_proba\")\n",
        "            best_cv_results = cv_results \n",
        "        i+=1\n",
        "    results.append(best_cv_results)\n",
        "    names.append(name)\n",
        "    to_add = f\" model {name}, best CV = {best_cv_results.mean()} +- {best_cv_results.std()}\"\n",
        "    result_str.append(to_add)\n",
        "    best_predictions[name] = y_probas_pred\n",
        "# Show results\n",
        "for string in result_str:\n",
        "    print(string)"
      ],
      "execution_count": null,
      "outputs": [
        {
          "output_type": "stream",
          "text": [
            "KNN\n",
            "GBM\n",
            "LR\n",
            "RF\n",
            "ET\n",
            "LDA\n",
            "QDA\n",
            "CART\n",
            "SVM\n",
            "AB\n",
            " model KNN, best CV = 0.8775879050526937 +- 0.05720295781045926\n",
            " model GBM, best CV = 0.9188466463114352 +- 0.07312991846681721\n",
            " model LR, best CV = 0.8516103614695163 +- 0.05770350341264755\n",
            " model RF, best CV = 0.8999852260415642 +- 0.09073588665611644\n",
            " model ET, best CV = 0.9223726977248103 +- 0.05310809182365121\n",
            " model LDA, best CV = 0.8242342164877376 +- 0.06622012902231303\n",
            " model QDA, best CV = 0.8198463508322664 +- 0.10949722902258718\n",
            " model CART, best CV = 0.8593469910371319 +- 0.10282520927203957\n",
            " model SVM, best CV = 0.8705111789618831 +- 0.040312380116271064\n",
            " model AB, best CV = 0.9132374667585935 +- 0.05591730122535007\n"
          ],
          "name": "stdout"
        }
      ]
    },
    {
      "cell_type": "code",
      "metadata": {
        "colab": {
          "base_uri": "https://localhost:8080/"
        },
        "id": "Twq6s-kpt3vt",
        "outputId": "1c3fb6f5-53bf-47ab-b085-c0480ef2c5d8"
      },
      "source": [
        "for model in best_predictions.keys():\n",
        "    print(model, \": \", roc_auc_score(Y_train, best_predictions[model][:,1]))"
      ],
      "execution_count": null,
      "outputs": [
        {
          "output_type": "stream",
          "text": [
            "KNN :  0.8774509803921569\n",
            "GBM :  0.9608049101993738\n",
            "LR :  0.9123178683238\n",
            "RF :  0.9620612951062779\n",
            "ET :  0.9715533272132382\n",
            "LDA :  0.8906464546602956\n",
            "QDA :  0.9193844204348406\n",
            "CART :  0.857843137254902\n",
            "SVM :  0.9230084190538962\n",
            "AB :  0.9657049094147463\n"
          ],
          "name": "stdout"
        }
      ]
    },
    {
      "cell_type": "code",
      "metadata": {
        "colab": {
          "base_uri": "https://localhost:8080/",
          "height": 529
        },
        "id": "IyG91eL8t8ns",
        "outputId": "33422276-1c38-4f64-acf2-e60d7f16d8b3"
      },
      "source": [
        "fig = plt.figure()\n",
        "ax = fig.add_subplot(111)\n",
        "plt.boxplot(results)\n",
        "ax.set_xticklabels(names)\n",
        "plt.savefig(\"boxplot_SMOTE.png\", format=\"png\", dpi=1200)\n",
        "plt.show()\n",
        "for model in best_predictions.keys():\n",
        "  fpr, tpr, thresh = roc_curve(Y_train, best_predictions[model][:,1])\n",
        "  plt.plot(fpr, tpr, linewidth=2, label=model)\n",
        "  plt.plot([0,1], [0,1], 'k--')\n",
        "plt.legend()\n",
        "plt.title('ROC CURVE SMOTE')\n",
        "plt.savefig(\"roc_SMOTE.png\", format=\"png\", dpi=1200)"
      ],
      "execution_count": null,
      "outputs": [
        {
          "output_type": "display_data",
          "data": {
            "image/png": "[encoded data removed]",
            "text/plain": [
              "<Figure size 432x288 with 1 Axes>"
            ]
          },
          "metadata": {
            "tags": [],
            "needs_background": "light"
          }
        },
        {
          "output_type": "display_data",
          "data": {
            "image/png": "[encoded data removed]",
            "text/plain": [
              "<Figure size 432x288 with 1 Axes>"
            ]
          },
          "metadata": {
            "tags": [],
            "needs_background": "light"
          }
        }
      ]
    },
    {
      "cell_type": "markdown",
      "metadata": {
        "id": "lzvjWe85o4kW"
      },
      "source": [
        "## 5 - Undersampling ##\n"
      ]
    },
    {
      "cell_type": "code",
      "metadata": {
        "colab": {
          "base_uri": "https://localhost:8080/"
        },
        "id": "jpwqLPwFNZXB",
        "outputId": "a9b89430-58cf-453b-86da-a87de407070c"
      },
      "source": [
        "from random import seed\n",
        "# Standardiser les données\n",
        "scaler = StandardScaler()\n",
        "\n",
        "# Utilisation de RandomUnderSampler\n",
        "under_sampling = RandomUnderSampler()\n",
        "\n",
        "# Nous avons choisi 10 modèles\n",
        "models = {\n",
        "    'KNN': KNeighborsClassifier(n_neighbors=1),\n",
        "    'GBM': GradientBoostingClassifier(),\n",
        "    'LR': LogisticRegression(),\n",
        "    'RF': RandomForestClassifier(n_estimators=100),\n",
        "    'ET': ExtraTreesClassifier(n_estimators=100),\n",
        "    'LDA': LinearDiscriminantAnalysis(),\n",
        "    'QDA': QuadraticDiscriminantAnalysis(),\n",
        "    'CART': DecisionTreeClassifier(),\n",
        "    'SVM': SVC(probability = True, C=2.0, kernel='rbf'),\n",
        "    'AB': AdaBoostClassifier(n_estimators=20)\n",
        "    }\n",
        "\n",
        "results, names, result_str = list(), list(), list()\n",
        "best_predictions = {}\n",
        "\n",
        "for name, model in models.items():\n",
        "    print(name)\n",
        "    best_result = 0\n",
        "    best_cv_results = list()\n",
        "    y_probas_pred = list()\n",
        "    iter_max = 50\n",
        "    i = 1\n",
        "    while i <= iter_max:\n",
        "        X_train, Y_train = under_sampling.fit_resample(X, Y)\n",
        "        X_train = scaler.fit_transform(X_train)\n",
        "        cv_results = cross_val_score(model, X_train, Y_train, cv=kfold, scoring='accuracy')\n",
        "        if cv_results.mean() > best_result:\n",
        "            best_result = cv_results.mean()\n",
        "            y_probas_pred = cross_val_predict(model,X_train, Y_train, cv=kfold, method=\"predict_proba\")\n",
        "            best_cv_results = cv_results \n",
        "        i+=1\n",
        "    results.append(best_cv_results)\n",
        "    names.append(name)\n",
        "    to_add = f\" model {name}, best CV = {best_cv_results.mean()} +- {best_cv_results.std()}\"\n",
        "    result_str.append(to_add)\n",
        "    best_predictions[name] = y_probas_pred\n",
        "\n",
        "# Show results\n",
        "for string in result_str:\n",
        "    print(string)"
      ],
      "execution_count": null,
      "outputs": [
        {
          "output_type": "stream",
          "text": [
            "KNN\n",
            "GBM\n",
            "LR\n",
            "RF\n",
            "ET\n",
            "LDA\n",
            "QDA\n",
            "CART\n",
            "SVM\n",
            "AB\n",
            " model KNN, best CV = 0.8535406885758998 +- 0.07076463648242373\n",
            " model GBM, best CV = 0.9024843505477309 +- 0.14522877336324083\n",
            " model LR, best CV = 0.9037949921752737 +- 0.05832248214211458\n",
            " model RF, best CV = 0.8997652582159624 +- 0.16859032978749508\n",
            " model ET, best CV = 0.9247848200312989 +- 0.07411972863544056\n",
            " model LDA, best CV = 0.8689358372456963 +- 0.06262598397622453\n",
            " model QDA, best CV = 0.8452660406885759 +- 0.13887210879700634\n",
            " model CART, best CV = 0.8344092331768389 +- 0.14334647480439613\n",
            " model SVM, best CV = 0.917781690140845 +- 0.03497300823776252\n",
            " model AB, best CV = 0.9150821596244132 +- 0.12783126060299238\n"
          ],
          "name": "stdout"
        }
      ]
    },
    {
      "cell_type": "code",
      "metadata": {
        "colab": {
          "base_uri": "https://localhost:8080/"
        },
        "id": "R-OwfOxQRI0N",
        "outputId": "f8a13faf-e2b0-49e9-caba-648806fad6cf"
      },
      "source": [
        "for model in best_predictions.keys():\n",
        "    print(model, \": \", roc_auc_score(Y_train, best_predictions[model][:,1]))"
      ],
      "execution_count": null,
      "outputs": [
        {
          "output_type": "stream",
          "text": [
            "KNN :  0.8537604456824514\n",
            "GBM :  0.9595052800645557\n",
            "LR :  0.9688860266447343\n",
            "RF :  0.943137467896742\n",
            "ET :  0.970294302496101\n",
            "LDA :  0.9369418300602882\n",
            "QDA :  0.918009636796735\n",
            "CART :  0.82033426183844\n",
            "SVM :  0.9641141828508467\n",
            "AB :  0.9767692677741482\n"
          ],
          "name": "stdout"
        }
      ]
    },
    {
      "cell_type": "code",
      "metadata": {
        "id": "OZozlz8jOrzN",
        "colab": {
          "base_uri": "https://localhost:8080/",
          "height": 529
        },
        "outputId": "c0ddf198-f7cd-431c-950c-05d6ae54f884"
      },
      "source": [
        "fig = plt.figure()\n",
        "ax = fig.add_subplot(111)\n",
        "plt.boxplot(results)\n",
        "ax.set_xticklabels(names)\n",
        "plt.savefig(\"boxplot.png\", format=\"png\", dpi=1200)\n",
        "plt.show()\n",
        "for model in best_predictions.keys():\n",
        "  fpr, tpr, thresh = roc_curve(Y_train, best_predictions[model][:,1])\n",
        "  plt.plot(fpr, tpr, linewidth=2, label=model)\n",
        "  plt.plot([0,1], [0,1], 'k--')\n",
        "plt.legend()\n",
        "plt.title('ROC CURVE')\n",
        "plt.savefig(\"roc.png\", format=\"png\", dpi=1200)"
      ],
      "execution_count": null,
      "outputs": [
        {
          "output_type": "display_data",
          "data": {
            "image/png": "[encoded data removed]",
            "text/plain": [
              "<Figure size 432x288 with 1 Axes>"
            ]
          },
          "metadata": {
            "tags": [],
            "needs_background": "light"
          }
        },
        {
          "output_type": "display_data",
          "data": {
            "image/png": "[encoded data removed]",
            "text/plain": [
              "<Figure size 432x288 with 1 Axes>"
            ]
          },
          "metadata": {
            "tags": [],
            "needs_background": "light"
          }
        }
      ]
    }
  ]
}